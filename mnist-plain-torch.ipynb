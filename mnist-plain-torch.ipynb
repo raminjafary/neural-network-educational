{
 "cells": [
  {
   "cell_type": "code",
   "execution_count": 12,
   "metadata": {},
   "outputs": [],
   "source": [
    "# Import required libraries for file handling and HTTP requests\n",
    "from pathlib import Path\n",
    "import requests\n",
    "\n",
    "# Define the data directory path\n",
    "DATA_PATH = Path('data')\n",
    "# Create full path for mnist data by joining 'data' and 'mnist'\n",
    "PATH = DATA_PATH / 'mnist'\n",
    "\n",
    "# Create the directory structure, making parent directories if needed\n",
    "PATH.mkdir(parents=True, exist_ok=True)\n",
    "\n",
    "# Define the base URL where the MNIST dataset is hosted\n",
    "URL = \"https://github.com/pytorch/tutorials/raw/main/_static/\"\n",
    "# Define the filename of the MNIST dataset\n",
    "FILENAME = 'mnist.pkl.gz'\n",
    "\n",
    "# Check if the file doesn't already exist\n",
    "if not (PATH / FILENAME).exists():\n",
    "    # Download the content from the URL\n",
    "    content = requests.get(URL + FILENAME).content\n",
    "    # Write the downloaded content to a file in binary mode\n",
    "    (PATH / FILENAME).open('wb').write(content)"
   ]
  },
  {
   "cell_type": "code",
   "execution_count": 13,
   "metadata": {},
   "outputs": [
    {
     "name": "stdout",
     "output_type": "stream",
     "text": [
      "(50000, 784)\n",
      "(50000,)\n"
     ]
    }
   ],
   "source": [
    "# Import pickle module for loading serialized data\n",
    "import pickle\n",
    "# Import gzip module for reading compressed files\n",
    "import gzip\n",
    "\n",
    "# Open the gzipped MNIST file in binary read mode\n",
    "# Convert Path object to string using as_posix() for compatibility\n",
    "with gzip.open((PATH / FILENAME).as_posix(), 'rb') as f:\n",
    "    # Load the pickle data with latin-1 encoding\n",
    "    # Unpack into training data (x_train, y_train), validation data (x_valid, y_valid)\n",
    "    # and ignore the test data (using _)\n",
    "    ((x_train, y_train), (x_valid, y_valid),\n",
    "     _) = pickle.load(f, encoding='latin-1')\n",
    "\n",
    "# Print shape of training data features (number of images x pixels per image)\n",
    "print(x_train.shape)\n",
    "# Print shape of training data labels (number of labels)\n",
    "print(y_train.shape)"
   ]
  },
  {
   "cell_type": "code",
   "execution_count": 14,
   "metadata": {},
   "outputs": [
    {
     "name": "stdout",
     "output_type": "stream",
     "text": [
      "5\n"
     ]
    },
    {
     "data": {
      "image/png": "[encoded data removed]",
      "text/plain": [
       "<Figure size 640x480 with 1 Axes>"
      ]
     },
     "metadata": {},
     "output_type": "display_data"
    }
   ],
   "source": [
    "# Import matplotlib.pyplot for visualization\n",
    "import matplotlib.pyplot as plt\n",
    "# Import numpy for numerical operations\n",
    "import numpy as np\n",
    "\n",
    "# Display the first training image by:\n",
    "# - Taking the first image (x_train[0])\n",
    "# - Reshaping it from 1D (784) to 2D (28x28) array\n",
    "# - Using grayscale colormap\n",
    "plt.imshow(x_train[0].reshape(28, 28), cmap='gray')\n",
    "# Print the corresponding label (digit) for the first training image\n",
    "print(y_train[0])"
   ]
  },
  {
   "cell_type": "code",
   "execution_count": 15,
   "metadata": {},
   "outputs": [],
   "source": [
    "# Import PyTorch library for deep learning operations\n",
    "import torch\n",
    "\n",
    "# Convert NumPy arrays to PyTorch tensors\n",
    "# map() applies torch.tensor to each array (x_train, y_train, x_valid, y_valid)\n",
    "# This converts our training and validation data from NumPy arrays to PyTorch tensors\n",
    "# which allows us to use them with PyTorch's deep learning operations\n",
    "x_train, y_train, x_valid, y_valid = map(\n",
    "    torch.tensor, (x_train, y_train, x_valid, y_valid))"
   ]
  },
  {
   "cell_type": "code",
   "execution_count": 16,
   "metadata": {},
   "outputs": [],
   "source": [
    "# Import math module for mathematical operations\n",
    "import math\n",
    "\n",
    "# Set random seed for reproducibility (like np.random.seed(0) in numpy)\n",
    "torch.manual_seed(0)\n",
    "\n",
    "# Create random weights matrix of shape (784, 10) and normalize by sqrt(784)\n",
    "# In numpy this would be: weights = np.random.randn(784, 10) / np.sqrt(784)\n",
    "# The dimensions (784, 10) are used because when we multiply:\n",
    "# - input data (batch_size=50000, features=784) by\n",
    "# - weights (features=784, classes=10)\n",
    "# we get (50000, 10) which gives us predictions for each class.\n",
    "# Note: If using (10, 784) weights, we'd need to transpose the input\n",
    "# to (784, 50000) for x * w + b instead of w * x + b\n",
    "# - 784 is the input size (28x28 pixels flattened)\n",
    "# - 10 is the output size (digits 0-9)\n",
    "#\n",
    "# PyTorch and numpy use different dimension ordering conventions:\n",
    "# - PyTorch uses (input_size, output_size) for weights\n",
    "# - Numpy commonly uses (output_size, input_size)\n",
    "#\n",
    "# But they represent the same mathematical operation for matrix multiplication\n",
    "\n",
    "weights = torch.randn(784, 10) / math.sqrt(784)\n",
    "\n",
    "# Enable gradient tracking for weights - numpy arrays don't have this capability\n",
    "weights.requires_grad_()\n",
    "\n",
    "# Create zero vector for biases with gradient tracking enabled\n",
    "# In numpy this would be: biases = np.zeros(10)\n",
    "bias = torch.zeros(10, requires_grad=True)"
   ]
  },
  {
   "cell_type": "code",
   "execution_count": 17,
   "metadata": {},
   "outputs": [],
   "source": [
    "# Define our simple linear model function\n",
    "# xb: input batch of images (each flattened to 784 pixels)\n",
    "# Returns: raw logits (pre-softmax scores) for each class\n",
    "def model(xb):\n",
    "    # Matrix multiply input (xb) with weights and add bias\n",
    "    # xb shape: (batch_size, 784)\n",
    "    # weights shape: (784, 10)\n",
    "    # bias shape: (10,)\n",
    "    # Output shape: (batch_size, 10)\n",
    "    return xb @ weights + bias"
   ]
  },
  {
   "cell_type": "code",
   "execution_count": 18,
   "metadata": {},
   "outputs": [
    {
     "name": "stdout",
     "output_type": "stream",
     "text": [
      "tensor(1., grad_fn=<SumBackward0>)\n"
     ]
    }
   ],
   "source": [
    "# Softmax function converts raw logits to probabilities\n",
    "# Formula: softmax(x_i) = exp(x_i) / sum(exp(x_j)) for j=1...n\n",
    "# Where:\n",
    "# - x_i is the input value for class i\n",
    "# - exp() is the exponential function\n",
    "# - sum() is over all classes\n",
    "#\n",
    "# For numerical stability, we should subtract max(x) from all values first\n",
    "# (not implemented here for simplicity)\n",
    "#\n",
    "# The function:\n",
    "# 1. Applies exp() to get positive values\n",
    "# 2. Normalizes by dividing by sum of all exp values\n",
    "# 3. Uses unsqueeze(-1) to maintain proper broadcasting\n",
    "def softmax(x):\n",
    "    return x.exp() / x.exp().sum(-1).unsqueeze(-1)\n",
    "\n",
    "\n",
    "# Cross Entropy Loss Function\n",
    "# Formula: -1/N * Σ(y_i * log(p_i)) where:\n",
    "# - N is batch size (number of samples)\n",
    "# - y_i is target probability (1 for correct class, 0 for others)\n",
    "# - p_i is predicted probability for class i\n",
    "# - Σ sums over all classes for each sample, then over all samples\n",
    "#\n",
    "# One-hot encoding converts integer class labels to binary vectors:\n",
    "# e.g. for 10 classes:\n",
    "# class 3 -> [0,0,0,1,0,0,0,0,0,0]\n",
    "# class 7 -> [0,0,P0,0,0,0,0,1,0,0]\n",
    "# This allows element-wise operations with predictions\n",
    "def cross_entropy_loss(pred, targets):\n",
    "    # Get batch size (bs) and number of classes (out_features) from prediction shape\n",
    "    # pred shape: (batch_size, num_classes)\n",
    "    bs, out_features = pred.shape\n",
    "\n",
    "    # Convert integer targets to one-hot vectors using identity matrix indexing\n",
    "    # torch.eye(out_features) creates identity matrix of size (out_features, out_features)\n",
    "    # Indexing with [targets] selects rows corresponding to target classes\n",
    "    # Result shape: (batch_size, num_classes)\n",
    "    one_hot_encoded_targets = torch.eye(out_features)[targets]\n",
    "\n",
    "    # Calculate cross entropy loss:\n",
    "    # 1. softmax(pred) converts logits to probabilities\n",
    "    # 2. .log() takes natural log of probabilities\n",
    "    # 3. multiply by one-hot targets (zeros out non-target classes)\n",
    "    # 4. .sum() adds up all values (both across classes and batch)\n",
    "    # 5. divide by batch size to get average loss per sample\n",
    "    return -(one_hot_encoded_targets * softmax(pred).log()).sum() / bs\n",
    "\n",
    "\n",
    "# Accuracy Function - Compares model predictions to actual labels\n",
    "# Input:\n",
    "#   pred: Model predictions (logits) with shape (batch_size, num_classes)\n",
    "#   yb: True labels as integers with shape (batch_size)\n",
    "# Returns: Boolean tensor indicating correct predictions\n",
    "def accuracy_func(pred, yb):\n",
    "    # torch.argmax finds the index of the maximum value along dimension 1 (the class dimension)\n",
    "    # Example for one sample:\n",
    "    # pred = [0.1, 0.7, 0.2] (logits/probabilities for 3 classes)\n",
    "    # argmax returns 1 since 0.7 is the highest value\n",
    "    #\n",
    "    # For a batch, if pred is:\n",
    "    # [[0.1, 0.7, 0.2],\n",
    "    #  [0.3, 0.2, 0.5]]\n",
    "    # argmax returns [1, 2] - class 1 for first sample, class 2 for second sample\n",
    "    pred_class = torch.argmax(pred, dim=1)\n",
    "\n",
    "    # Compare predicted classes to true labels\n",
    "    # Example:\n",
    "    # pred_class = [1, 2]\n",
    "    # yb =         [1, 1]\n",
    "    # Returns:     [True, False]\n",
    "    # True for correct predictions, False for incorrect ones\n",
    "    # Compare predicted classes (pred_class) with true labels (yb) element-wise\n",
    "    # (pred_class == yb) creates a boolean tensor: True for correct predictions, False for incorrect\n",
    "    # .float() converts booleans to 0.0 (False) and 1.0 (True)\n",
    "    # .mean() calculates the average, giving us the accuracy as a fraction between 0 and 1\n",
    "    return (pred_class == yb).float().mean()\n",
    "\n",
    "\n",
    "print(softmax(model(x_train))[0].sum())"
   ]
  },
  {
   "cell_type": "code",
   "execution_count": 19,
   "metadata": {},
   "outputs": [
    {
     "name": "stdout",
     "output_type": "stream",
     "text": [
      "tensor(2.4608, grad_fn=<NllLossBackward0>)\n",
      "loss=2.4608447551727295\n"
     ]
    }
   ],
   "source": [
    "import torch.nn.functional as F\n",
    "\n",
    "bs = 64\n",
    "\n",
    "xb = x_train[0:bs]\n",
    "pred = model(xb)\n",
    "yb = y_train[0:bs]\n",
    "\n",
    "print(F.cross_entropy(pred, yb))\n",
    "print(f\"loss={cross_entropy_loss(pred, yb)}\")"
   ]
  },
  {
   "cell_type": "code",
   "execution_count": 20,
   "metadata": {},
   "outputs": [
    {
     "name": "stdout",
     "output_type": "stream",
     "text": [
      "Loss: 2.460845 Accuracy: 4.7%\n",
      "Loss: 0.117402 Accuracy: 98.4%\n",
      "Loss: 0.121539 Accuracy: 96.9%\n",
      "Loss: 0.059987 Accuracy: 100.0%\n",
      "Loss: 0.080367 Accuracy: 98.4%\n",
      "Loss: 0.098814 Accuracy: 98.4%\n",
      "Loss: 0.049722 Accuracy: 100.0%\n",
      "Loss: 0.079958 Accuracy: 96.9%\n",
      "Loss: 0.462700 Accuracy: 90.6%\n",
      "Loss: 0.040384 Accuracy: 100.0%\n",
      "Loss: 0.070740 Accuracy: 98.4%\n",
      "Loss: 0.020320 Accuracy: 100.0%\n",
      "Loss: 0.030883 Accuracy: 100.0%\n",
      "Loss: 0.033094 Accuracy: 100.0%\n",
      "Loss: 0.030932 Accuracy: 100.0%\n",
      "Loss: 0.026909 Accuracy: 100.0%\n"
     ]
    }
   ],
   "source": [
    "# Training Configuration\n",
    "epochs = 2          # Number of complete passes through the training dataset\n",
    "bs = 64            # Batch size - number of samples processed in each iteration\n",
    "n = x_train.shape[0]  # Total number of training samples\n",
    "# Number of batches per epoch (adding 1 to handle remaining samples)\n",
    "num_batches = n // bs + 1\n",
    "lr = 0.5          # Learning rate - controls how much we adjust the weights in each step\n",
    "\n",
    "# Training Loop\n",
    "# We iterate through the dataset multiple times (epochs) to improve model performance\n",
    "for epoch in range(epochs):\n",
    "    for i in range(num_batches):\n",
    "        # Calculate batch indices\n",
    "        start_i = i\n",
    "        end_i = start_i + bs\n",
    "\n",
    "        # Get current batch of data\n",
    "        xb = x_train[start_i:end_i]    # Input images (batch_size x 784 pixels)\n",
    "        yb = y_train[start_i:end_i]    # True labels (batch_size)\n",
    "\n",
    "        # Forward Pass\n",
    "        # Model predictions: shape (batch_size x 10)\n",
    "        pred = model(xb)\n",
    "        # Example: [[0.1, 0.2, ..., 0.05], ...] for each digit 0-9\n",
    "\n",
    "        # Calculate Loss and Accuracy\n",
    "        # Cross Entropy Loss Formula: -Σ(y_true * log(y_pred))\n",
    "        # For example, if true label is 7:\n",
    "        # y_true = [0,0,0,0,0,0,0,1,0,0]\n",
    "        # y_pred = [0.1,0.05,0.1,0.05,0.1,0.1,0.1,0.3,0.05,0.05]\n",
    "        # loss = -log(0.3) ≈ 1.20\n",
    "        loss = cross_entropy_loss(pred, yb)\n",
    "\n",
    "        # Accuracy calculation:\n",
    "        # 1. Find predicted class (argmax of predictions)\n",
    "        # 2. Compare with true labels\n",
    "        # Example: if pred_class=[7,2,1] and true_labels=[7,2,0]\n",
    "        # accuracy = 2/3 ≈ 0.67 (2 correct predictions out of 3)\n",
    "        accuracy = accuracy_func(pred, yb)\n",
    "\n",
    "        # Backward Pass - Compute gradients\n",
    "        loss.backward()  # Uses autograd to compute ∂loss/∂weights and ∂loss/∂bias\n",
    "\n",
    "        # Gradient Descent Update\n",
    "        # Formula: w = w - lr * ∂loss/∂w\n",
    "        # Example: if weight=0.5, gradient=0.1, lr=0.5\n",
    "        # New weight = 0.5 - (0.5 * 0.1) = 0.45\n",
    "        with torch.no_grad():  # Temporarily disable gradient tracking\n",
    "            weights -= weights.grad * lr  # Update weights\n",
    "            bias -= bias.grad * lr        # Update bias\n",
    "\n",
    "            # Reset gradients to zero\n",
    "            weights.grad.zero_()  # Prevent gradient accumulation\n",
    "            bias.grad.zero_()\n",
    "\n",
    "        # Print training progress every 100 batches\n",
    "        if i % 100 == 0:\n",
    "            train_loss, train_accuracy = loss.item(), accuracy.item() * 100\n",
    "            print(f\"Loss: {train_loss:6f} Accuracy: {train_accuracy:0.1f}%\")"
   ]
  }
 ],
 "metadata": {
  "kernelspec": {
   "display_name": "myenv",
   "language": "python",
   "name": "python3"
  },
  "language_info": {
   "codemirror_mode": {
    "name": "ipython",
    "version": 3
   },
   "file_extension": ".py",
   "mimetype": "text/x-python",
   "name": "python",
   "nbconvert_exporter": "python",
   "pygments_lexer": "ipython3",
   "version": "3.12.8"
  }
 },
 "nbformat": 4,
 "nbformat_minor": 2
}
