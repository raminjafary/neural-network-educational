{
 "cells": [
  {
   "cell_type": "code",
   "execution_count": 1,
   "metadata": {},
   "outputs": [],
   "source": [
    "import torch\n",
    "from torch.utils.data import DataLoader\n",
    "from torch.utils.data import TensorDataset\n",
    "from torchvision.datasets import MNIST\n",
    "from torchvision.transforms import ToTensor\n",
    "import matplotlib.pyplot as plt"
   ]
  },
  {
   "cell_type": "code",
   "execution_count": 2,
   "metadata": {},
   "outputs": [],
   "source": [
    "train_ds = MNIST(root='data-nn', train=True,\n",
    "                 download=True, transform=ToTensor())\n",
    "valid_ds = MNIST(root='data-nn', train=False,\n",
    "                 download=True, transform=ToTensor())"
   ]
  },
  {
   "cell_type": "code",
   "execution_count": 3,
   "metadata": {},
   "outputs": [
    {
     "name": "stdout",
     "output_type": "stream",
     "text": [
      "5\n"
     ]
    },
    {
     "data": {
      "text/plain": [
       "<matplotlib.image.AxesImage at 0x17eec2900>"
      ]
     },
     "execution_count": 3,
     "metadata": {},
     "output_type": "execute_result"
    },
    {
     "data": {
      "image/png": "[encoded data removed]",
      "text/plain": [
       "<Figure size 640x480 with 1 Axes>"
      ]
     },
     "metadata": {},
     "output_type": "display_data"
    }
   ],
   "source": [
    "image, label = train_ds[0]\n",
    "print(label)\n",
    "plt.imshow(image.reshape(28, 28), cmap='gray')"
   ]
  },
  {
   "cell_type": "code",
   "execution_count": 4,
   "metadata": {},
   "outputs": [],
   "source": [
    "# Set batch size to 64 samples per batch\n",
    "bs = 64\n",
    "\n",
    "# Create training DataLoader\n",
    "# - Uses train_ds dataset created earlier\n",
    "# - Loads data in batches of size bs (64)\n",
    "# - shuffle=True randomly reorders data between epochs\n",
    "train_dl = DataLoader(train_ds, batch_size=bs, shuffle=True)\n",
    "\n",
    "# Create validation DataLoader\n",
    "# - Uses valid_ds dataset created earlier\n",
    "# - Same batch size as training\n",
    "# - shuffle=True not strictly needed for validation but keeps consistent\n",
    "valid_dl = DataLoader(valid_ds, batch_size=bs, shuffle=True)"
   ]
  },
  {
   "cell_type": "code",
   "execution_count": 5,
   "metadata": {},
   "outputs": [
    {
     "name": "stdout",
     "output_type": "stream",
     "text": [
      "MNISTModel(\n",
      "  (lin): Linear(in_features=784, out_features=10, bias=True)\n",
      ")\n"
     ]
    }
   ],
   "source": [
    "# Import neural network module from PyTorch\n",
    "from torch import nn\n",
    "\n",
    "\n",
    "# Define our MNIST classifier model\n",
    "class MNISTModel(nn.Module):\n",
    "    def __init__(self):\n",
    "        # Initialize the parent nn.Module class\n",
    "        super().__init__()\n",
    "\n",
    "        # Create a single linear layer that:\n",
    "        # - Takes input of 28*28 = 784 (flattened MNIST image)\n",
    "        # - Outputs 10 values (one for each digit 0-9)\n",
    "        # - Linear layer applies: output = weight_matrix @ input + bias\n",
    "        self.lin = nn.Linear(28 * 28, 10)\n",
    "\n",
    "    def forward(self, xb):\n",
    "        # xb shape: (batch_size, 1, 28, 28)\n",
    "        # flatten all dimensions after batch dimension:\n",
    "        # - Keep batch_size as first dimension\n",
    "        # - Combine remaining dimensions (1, 28, 28) into 784\n",
    "        # - Result shape: (batch_size, 784)\n",
    "        xb = xb.flatten(1, -1)\n",
    "\n",
    "        # Pass flattened input through linear layer\n",
    "        # Output shape: (batch_size, 10)\n",
    "        # Each value represents score/logit for corresponding digit\n",
    "        return self.lin(xb)\n",
    "\n",
    "\n",
    "# Create an instance of our model\n",
    "model = MNISTModel()\n",
    "# Print model architecture\n",
    "print(model)"
   ]
  },
  {
   "cell_type": "code",
   "execution_count": 6,
   "metadata": {},
   "outputs": [],
   "source": [
    "# Import PyTorch's optimization package which contains various optimizers\n",
    "from torch import optim\n",
    "\n",
    "# Learning rate - controls how big of a step we take during gradient descent\n",
    "# 0.5 is relatively large but works well for this simple model\n",
    "# Too small: learning is slow\n",
    "# Too large: may overshoot optimal values\n",
    "lr = 0.5\n",
    "\n",
    "# CrossEntropyLoss combines:\n",
    "# 1. LogSoftmax - converts raw logits to probabilities\n",
    "# 2. NLLLoss - negative log likelihood loss\n",
    "# Perfect for classification tasks where model outputs raw scores\n",
    "loss_func = nn.CrossEntropyLoss()\n",
    "\n",
    "# Stochastic Gradient Descent optimizer:\n",
    "# - Takes model parameters that should be optimized\n",
    "# - Uses learning rate (lr) to control update step size\n",
    "# - At each step will update parameters: param -= lr * param.grad\n",
    "optimizer = optim.SGD(model.parameters(), lr)\n",
    "\n",
    "\n",
    "# Calculate classification accuracy\n",
    "def accuracy_func(pred, target):\n",
    "    # pred shape: (batch_size, num_classes) - raw logits/scores\n",
    "    # Get predicted class by finding index of highest score for each sample\n",
    "    # argmax(dim=1) operates along class dimension\n",
    "    pred_class = torch.argmax(pred, dim=1)\n",
    "\n",
    "    # Compare predicted classes with actual targets\n",
    "    # Convert boolean tensor to float and take mean\n",
    "    # Returns accuracy as decimal between 0 and 1\n",
    "    return (pred_class == target).float().mean()"
   ]
  },
  {
   "cell_type": "code",
   "execution_count": 7,
   "metadata": {},
   "outputs": [],
   "source": [
    "def train(dataloader, model, loss_func, optimizer):\n",
    "    # Main training loop function that processes batches of data\n",
    "    # Parameters:\n",
    "    # - dataloader: Provides batches of training data\n",
    "    # - model: Neural network model to train\n",
    "    # - loss_func: Loss function to compute training error\n",
    "    # - optimizer: Optimization algorithm (SGD) to update model weights\n",
    "\n",
    "    for batch_idx, (xb, yb) in enumerate(dataloader):\n",
    "        # Iterate through batches of data\n",
    "        # batch_idx: Current batch number\n",
    "        # xb: Batch of input images\n",
    "        # yb: Batch of corresponding labels\n",
    "\n",
    "        # Forward pass - get model predictions\n",
    "        pred = model(xb)\n",
    "\n",
    "        # Calculate loss between predictions and true labels\n",
    "        loss = loss_func(pred, yb)\n",
    "\n",
    "        # Backward pass - compute gradients\n",
    "        loss.backward()\n",
    "\n",
    "        # Update model parameters using optimizer\n",
    "        optimizer.step()\n",
    "\n",
    "        # Reset gradients to zero for next batch\n",
    "        # Important: PyTorch accumulates gradients by default\n",
    "        optimizer.zero_grad()\n",
    "\n",
    "        # Print training statistics every 100 batches\n",
    "        if batch_idx % 100 == 0:\n",
    "            # Get current loss and accuracy values\n",
    "            # .item() extracts value from tensor\n",
    "            train_loss = loss.item()\n",
    "            train_accuracy = accuracy_func(\n",
    "                pred, yb).item() * 100  # Convert to percentage\n",
    "\n",
    "            # Display current training progress\n",
    "            print(f\"Loss: {train_loss:6f} Accuracy: {train_accuracy:0.1f}%\")"
   ]
  },
  {
   "cell_type": "code",
   "execution_count": 8,
   "metadata": {},
   "outputs": [],
   "source": [
    "def test(dataloader, model, loss_func):\n",
    "    # Set model to evaluation mode - important for layers like dropout and batch norm\n",
    "    # This ensures they behave differently during inference vs training\n",
    "    model.eval()\n",
    "\n",
    "    # Disable gradient computation since we don't need to update weights\n",
    "    # This saves memory and speeds up inference\n",
    "    with torch.no_grad():\n",
    "        # Iterate through batches in validation/test dataset\n",
    "        for xb, yb in dataloader:\n",
    "            # Forward pass - get model predictions on test data\n",
    "            pred = model(xb)\n",
    "\n",
    "            # Calculate loss between predictions and true labels\n",
    "            # This helps monitor model performance\n",
    "            loss = loss_func(pred, yb)\n",
    "\n",
    "            # Calculate accuracy using our accuracy function\n",
    "            # Shows percentage of correct predictions\n",
    "            accuracy = accuracy_func(pred, yb)\n",
    "\n",
    "            # Extract scalar values from tensors and convert accuracy to percentage\n",
    "            # Note: This overwrites previous batches - only keeps last batch results\n",
    "            # For proper test metrics, we should accumulate across all batches\n",
    "            test_loss, test_accuracy = loss.item(), accuracy.item() * 100\n",
    "\n",
    "    # Display final test metrics\n",
    "    # Loss indicates how far predictions are from true values\n",
    "    # Accuracy shows percentage of correct predictions\n",
    "    print(f\"Test Loss: {test_loss:6f} Test Accuracy: {test_accuracy:0.1f}%\")"
   ]
  },
  {
   "cell_type": "code",
   "execution_count": 9,
   "metadata": {},
   "outputs": [
    {
     "name": "stdout",
     "output_type": "stream",
     "text": [
      "Epoch 1\n",
      "-------------------------------\n",
      "Loss: 2.315774 Accuracy: 7.8%\n",
      "Loss: 0.506611 Accuracy: 84.4%\n",
      "Loss: 0.361105 Accuracy: 89.1%\n",
      "Loss: 0.349068 Accuracy: 89.1%\n",
      "Loss: 0.266937 Accuracy: 93.8%\n",
      "Loss: 0.306855 Accuracy: 92.2%\n",
      "Loss: 0.365529 Accuracy: 90.6%\n",
      "Loss: 0.307468 Accuracy: 89.1%\n",
      "Loss: 0.281192 Accuracy: 92.2%\n",
      "Loss: 0.263980 Accuracy: 92.2%\n",
      "Test Loss: 0.282834 Test Accuracy: 87.5%\n",
      "Epoch 2\n",
      "-------------------------------\n",
      "Loss: 0.316078 Accuracy: 93.8%\n",
      "Loss: 0.393585 Accuracy: 87.5%\n",
      "Loss: 0.397548 Accuracy: 87.5%\n",
      "Loss: 0.169663 Accuracy: 95.3%\n",
      "Loss: 0.329187 Accuracy: 90.6%\n",
      "Loss: 0.380878 Accuracy: 89.1%\n",
      "Loss: 0.423783 Accuracy: 90.6%\n",
      "Loss: 0.125614 Accuracy: 96.9%\n",
      "Loss: 0.604748 Accuracy: 90.6%\n",
      "Loss: 0.322403 Accuracy: 95.3%\n",
      "Test Loss: 0.088436 Test Accuracy: 93.8%\n",
      "Done!\n"
     ]
    }
   ],
   "source": [
    "epochs = 2\n",
    "\n",
    "for t in range(epochs):\n",
    "    print(f\"Epoch {t+1}\\n-------------------------------\")\n",
    "    train(train_dl, model, loss_func, optimizer)\n",
    "    test(valid_dl, model, loss_func)\n",
    "\n",
    "print(\"Done!\")"
   ]
  }
 ],
 "metadata": {
  "kernelspec": {
   "display_name": "myenv",
   "language": "python",
   "name": "python3"
  },
  "language_info": {
   "codemirror_mode": {
    "name": "ipython",
    "version": 3
   },
   "file_extension": ".py",
   "mimetype": "text/x-python",
   "name": "python",
   "nbconvert_exporter": "python",
   "pygments_lexer": "ipython3",
   "version": "3.12.8"
  }
 },
 "nbformat": 4,
 "nbformat_minor": 2
}
