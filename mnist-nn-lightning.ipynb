{
 "cells": [
  {
   "cell_type": "code",
   "execution_count": 110,
   "metadata": {},
   "outputs": [],
   "source": [
    "import torch\n",
    "from torch import nn\n",
    "from torch import optim\n",
    "from torch.utils.data import DataLoader\n",
    "from torchvision.datasets import MNIST\n",
    "from torchvision.transforms import ToTensor\n",
    "from torch.nn import functional as F\n",
    "import pytorch_lightning as pl"
   ]
  },
  {
   "cell_type": "code",
   "execution_count": 111,
   "metadata": {},
   "outputs": [],
   "source": [
    "train_ds = MNIST(root='data-nn', train=True,\n",
    "                 download=True, transform=ToTensor())\n",
    "valid_ds = MNIST(root='data-nn', train=False,\n",
    "                 download=True, transform=ToTensor())\n",
    "bs = 64\n",
    "\n",
    "train_dl = DataLoader(train_ds, batch_size=bs, shuffle=True)\n",
    "valid_dl = DataLoader(valid_ds, batch_size=bs, shuffle=True)"
   ]
  },
  {
   "cell_type": "code",
   "execution_count": 112,
   "metadata": {},
   "outputs": [],
   "source": [
    "import torchmetrics\n",
    "\n",
    "\n",
    "class MNISTModel(pl.LightningModule):\n",
    "    def __init__(self, lr=0.5):\n",
    "        super().__init__()\n",
    "        self.lin = nn.Linear(784, 10)\n",
    "        self.lr = lr\n",
    "\n",
    "        self.train_accuracy = torchmetrics.Accuracy(\n",
    "            task='multiclass', num_classes=10)\n",
    "        self.valid_accuracy = torchmetrics.Accuracy(\n",
    "            task='multiclass', num_classes=10)\n",
    "\n",
    "    def forward(self, xb):\n",
    "        xb = xb.flatten(1, -1)\n",
    "        return self.lin(xb)\n",
    "\n",
    "    def training_step(self, batch, batch_idx):\n",
    "        loss = self.shared_step(batch, train=True)\n",
    "        return loss\n",
    "\n",
    "    def validation_step(self, batch):\n",
    "        self.shared_step(batch, train=False)\n",
    "\n",
    "    def shared_step(self, batch, train):\n",
    "        xb, yb = batch\n",
    "        pred = self(xb)\n",
    "        loss_func = F.cross_entropy(pred, yb)\n",
    "\n",
    "        if (train):\n",
    "            self.train_accuracy(pred.softmax(dim=1), yb)\n",
    "            self.log('train_accuracy', self.train_accuracy,\n",
    "                     on_step=True, on_epoch=False, prog_bar=True)\n",
    "        else:\n",
    "            self.valid_accuracy(pred.softmax(dim=1), yb)\n",
    "            self.log('valid_accuracy', self.valid_accuracy,\n",
    "                     on_step=True, on_epoch=True, prog_bar=True)\n",
    "        return loss_func\n",
    "\n",
    "    def configure_optimizers(self):\n",
    "        return optim.SGD(self.parameters(), lr=self.lr)"
   ]
  },
  {
   "cell_type": "code",
   "execution_count": 113,
   "metadata": {},
   "outputs": [],
   "source": [
    "from lightning.pytorch.loggers import TensorBoardLogger\n",
    "\n",
    "tb_logger = TensorBoardLogger('tb_logs')"
   ]
  },
  {
   "cell_type": "code",
   "execution_count": 114,
   "metadata": {},
   "outputs": [
    {
     "name": "stderr",
     "output_type": "stream",
     "text": [
      "GPU available: True (mps), used: True\n",
      "TPU available: False, using: 0 TPU cores\n",
      "HPU available: False, using: 0 HPUs\n",
      "\n",
      "  | Name           | Type               | Params | Mode \n",
      "--------------------------------------------------------------\n",
      "0 | lin            | Linear             | 7.9 K  | train\n",
      "1 | train_accuracy | MulticlassAccuracy | 0      | train\n",
      "2 | valid_accuracy | MulticlassAccuracy | 0      | train\n",
      "--------------------------------------------------------------\n",
      "7.9 K     Trainable params\n",
      "0         Non-trainable params\n",
      "7.9 K     Total params\n",
      "0.031     Total estimated model params size (MB)\n",
      "3         Modules in train mode\n",
      "0         Modules in eval mode\n"
     ]
    },
    {
     "name": "stdout",
     "output_type": "stream",
     "text": [
      "Epoch 1: 100%|██████████| 938/938 [00:04<00:00, 188.61it/s, v_num=0, train_accuracy=1.000, valid_accuracy_step=1.000, valid_accuracy_epoch=0.919]"
     ]
    },
    {
     "name": "stderr",
     "output_type": "stream",
     "text": [
      "`Trainer.fit` stopped: `max_epochs=2` reached.\n"
     ]
    },
    {
     "name": "stdout",
     "output_type": "stream",
     "text": [
      "Epoch 1: 100%|██████████| 938/938 [00:04<00:00, 188.52it/s, v_num=0, train_accuracy=1.000, valid_accuracy_step=1.000, valid_accuracy_epoch=0.919]\n"
     ]
    }
   ],
   "source": [
    "mnist_model = MNISTModel()\n",
    "\n",
    "trainer = pl.Trainer(max_epochs=2, logger=tb_logger)\n",
    "\n",
    "trainer.fit(mnist_model, train_dl, valid_dl)"
   ]
  }
 ],
 "metadata": {
  "kernelspec": {
   "display_name": "myenv",
   "language": "python",
   "name": "python3"
  },
  "language_info": {
   "codemirror_mode": {
    "name": "ipython",
    "version": 3
   },
   "file_extension": ".py",
   "mimetype": "text/x-python",
   "name": "python",
   "nbconvert_exporter": "python",
   "pygments_lexer": "ipython3",
   "version": "3.12.8"
  }
 },
 "nbformat": 4,
 "nbformat_minor": 2
}
